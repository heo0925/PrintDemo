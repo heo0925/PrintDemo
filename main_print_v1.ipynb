{
 "cells": [
  {
   "cell_type": "markdown",
   "id": "6ad47d1d",
   "metadata": {},
   "source": [
    "# print 예제 입니다."
   ]
  },
  {
   "cell_type": "code",
   "execution_count": 1,
   "id": "088b55ab",
   "metadata": {},
   "outputs": [
    {
     "name": "stdout",
     "output_type": "stream",
     "text": [
      "Hello, Python!\n"
     ]
    }
   ],
   "source": [
    "# 변수 선언\n",
    "name = \"Alice\"\n",
    "age = 25\n",
    "score = 95.5\n",
    "\n",
    "# 1. 기본 출력\n",
    "print(\"Hello, Python!\")"
   ]
  },
  {
   "cell_type": "code",
   "execution_count": 2,
   "id": "7ac2f275",
   "metadata": {},
   "outputs": [
    {
     "name": "stdout",
     "output_type": "stream",
     "text": [
      "Name: Alice Age: 25 Score: 95.5\n",
      "My name is Alice, I am 25 years old, score: 95.5\n"
     ]
    }
   ],
   "source": [
    "# 2. 여러 값 출력 (콤마로 구분 - 자동 띄어쓰기)\n",
    "print(\"Name:\", name, \"Age:\", age, \"Score:\", score)\n",
    "\n",
    "# 3. f-string (가장 많이 쓰임, Python 3.6+)\n",
    "print(f\"My name is {name}, I am {age} years old, score: {score}\")"
   ]
  },
  {
   "cell_type": "code",
   "execution_count": 3,
   "id": "67e76aac",
   "metadata": {},
   "outputs": [
    {
     "name": "stdout",
     "output_type": "stream",
     "text": [
      "My name is Alice, I am 25 years old, score: 95.5\n",
      "My name is Alice, age 25, score 95.5\n",
      "Score with 2 decimals: 95.50\n"
     ]
    }
   ],
   "source": [
    "# 4. format() 함수\n",
    "print(\"My name is {}, I am {} years old, score: {}\".format(name, age, score))\n",
    "print(\"My name is {0}, age {1}, score {2}\".format(name, age, score))\n",
    "print(\"Score with 2 decimals: {:.2f}\".format(score))\n"
   ]
  },
  {
   "cell_type": "code",
   "execution_count": 4,
   "id": "4646f149",
   "metadata": {},
   "outputs": [
    {
     "name": "stdout",
     "output_type": "stream",
     "text": [
      "Name: Alice, Age: 25, Score: 95.5\n"
     ]
    }
   ],
   "source": [
    "# 5. % 포맷 (C 스타일, 옛날 방식)\n",
    "print(\"Name: %s, Age: %d, Score: %.1f\" % (name, age, score))"
   ]
  },
  {
   "cell_type": "code",
   "execution_count": 5,
   "id": "905b8e26",
   "metadata": {},
   "outputs": [
    {
     "name": "stdout",
     "output_type": "stream",
     "text": [
      "This is line 1\n",
      "This is line 2\n"
     ]
    }
   ],
   "source": [
    "# 6. 여러 줄 출력 (줄바꿈 포함)\n",
    "print(\"This is line 1\\nThis is line 2\")\n"
   ]
  },
  {
   "cell_type": "code",
   "execution_count": 6,
   "id": "0ed2d3c0",
   "metadata": {},
   "outputs": [
    {
     "name": "stdout",
     "output_type": "stream",
     "text": [
      "Hello! World!\n"
     ]
    }
   ],
   "source": [
    "# 7. end 옵션 (기본값은 줄바꿈 '\\n')\n",
    "print(\"Hello!\", end=\" \")\n",
    "print(\"World!\")"
   ]
  },
  {
   "cell_type": "code",
   "execution_count": 7,
   "id": "ce21bf52",
   "metadata": {},
   "outputs": [
    {
     "name": "stdout",
     "output_type": "stream",
     "text": [
      "2025-09-23\n"
     ]
    }
   ],
   "source": [
    "# 8. sep 옵션 (기본값은 공백 ' ')\n",
    "print(\"2025\", \"09\", \"23\", sep='-')"
   ]
  },
  {
   "cell_type": "code",
   "execution_count": 8,
   "id": "01d54593",
   "metadata": {},
   "outputs": [
    {
     "name": "stdout",
     "output_type": "stream",
     "text": [
      "Data: {'name': 'Alice', 'age': 25, 'score': 95.5}\n"
     ]
    }
   ],
   "source": [
    "# 9. 딕셔너리/리스트 같이 출력\n",
    "data = {\"name\": name, \"age\": age, \"score\": score}\n",
    "print(\"Data:\", data)\n"
   ]
  },
  {
   "cell_type": "code",
   "execution_count": 9,
   "id": "23a64a41",
   "metadata": {},
   "outputs": [
    {
     "name": "stdout",
     "output_type": "stream",
     "text": [
      "Next year age: 26\n",
      "Score (rounded): 96\n"
     ]
    }
   ],
   "source": [
    "# 10. f-string 내 계산식/함수 사용\n",
    "print(f\"Next year age: {age + 1}\")\n",
    "print(f\"Score (rounded): {round(score)}\")\n"
   ]
  },
  {
   "cell_type": "code",
   "execution_count": 10,
   "id": "df154dd9",
   "metadata": {},
   "outputs": [
    {
     "name": "stdout",
     "output_type": "stream",
     "text": [
      "\n",
      "Student Info:\n",
      "- Name: Alice\n",
      "- Age: 25\n",
      "- Score: 95.50\n",
      "\n"
     ]
    }
   ],
   "source": [
    "# 11. 멀티라인 f-string (''' 좋은 예'''\n",
    "print(f\"\"\"\n",
    "Student Info:\n",
    "- Name: {name}\n",
    "- Age: {age}\n",
    "- Score: {score:.2f}\n",
    "\"\"\")"
   ]
  }
 ],
 "metadata": {
  "kernelspec": {
   "display_name": ".venv",
   "language": "python",
   "name": "python3"
  },
  "language_info": {
   "codemirror_mode": {
    "name": "ipython",
    "version": 3
   },
   "file_extension": ".py",
   "mimetype": "text/x-python",
   "name": "python",
   "nbconvert_exporter": "python",
   "pygments_lexer": "ipython3",
   "version": "3.13.7"
  }
 },
 "nbformat": 4,
 "nbformat_minor": 5
}
